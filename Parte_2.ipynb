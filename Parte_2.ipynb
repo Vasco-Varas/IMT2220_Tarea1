{
 "cells": [
  {
   "cell_type": "code",
   "execution_count": 33,
   "metadata": {
    "collapsed": true,
    "pycharm": {
     "name": "#%%\n"
    }
   },
   "outputs": [],
   "source": [
    "import math\n",
    "import random\n",
    "\n",
    "import numpy as np\n",
    "\n",
    "with open('P2grupo_6.csv', 'r') as f:\n",
    "    data = list(map(lambda x: (float(x[0]), float(x[1]), float(x[2])), [x.split(',') for x in f.read().split('\\n')][:-1]))"
   ]
  },
  {
   "cell_type": "markdown",
   "source": [
    "$\\sigma '(t) = \\frac{1}{\\cosh^2(t)^2} = 1 - \\tanh^2(t) = 1 - \\sigma '(t)$"
   ],
   "metadata": {
    "collapsed": false,
    "pycharm": {
     "name": "#%% md\n"
    }
   }
  },
  {
   "cell_type": "code",
   "execution_count": 19,
   "outputs": [
    {
     "data": {
      "text/plain": "[(1.504848610341167, 0.45259063530561505, 1.0),\n (2.522627979495235, 4.085631359271286, 1.0),\n (2.6097851174627076, 4.750056015296462, 1.0),\n (3.4132704556482043, -4.454156482512969, -1.0),\n (4.738325459162878, -4.440358048900471, -1.0),\n (2.6246260465369, 0.20814943131320707, 1.0),\n (2.856126132290047, 3.395508069323247, 1.0),\n (-2.9130204806013325, 1.4223106980762044, -1.0),\n (-4.058307920878561, -2.528859306343766, 1.0),\n (1.5567098865363826, -3.256366226134303, -1.0)]"
     },
     "execution_count": 19,
     "metadata": {},
     "output_type": "execute_result"
    }
   ],
   "source": [
    "data[:10]"
   ],
   "metadata": {
    "collapsed": false,
    "pycharm": {
     "name": "#%%\n"
    }
   }
  },
  {
   "cell_type": "code",
   "execution_count": 8,
   "outputs": [],
   "source": [
    "def J(a, b, c, d, e):\n",
    "    retVal = 0\n",
    "\n",
    "    for element in data:\n",
    "        retVal += (element[2]-math.tanh(c * math.tanh(a*element[0] + b*element[1] + d) + e))**2\n",
    "\n",
    "    return retVal/len(data)\n"
   ],
   "metadata": {
    "collapsed": false,
    "pycharm": {
     "name": "#%%\n"
    }
   }
  },
  {
   "cell_type": "code",
   "execution_count": 11,
   "outputs": [
    {
     "data": {
      "text/plain": "2.017574857147557"
     },
     "execution_count": 11,
     "metadata": {},
     "output_type": "execute_result"
    }
   ],
   "source": [
    "J(1,2,3,4,5)"
   ],
   "metadata": {
    "collapsed": false,
    "pycharm": {
     "name": "#%%\n"
    }
   }
  },
  {
   "cell_type": "code",
   "execution_count": 22,
   "outputs": [
    {
     "data": {
      "text/plain": "(0.008455998406167581,\n -0.014170178055707347,\n -0.014585205554887149,\n 0.003685798009212804,\n 0.015271238918586283)"
     },
     "execution_count": 22,
     "metadata": {},
     "output_type": "execute_result"
    }
   ],
   "source": [
    "def sech2(x):\n",
    "    return (1/np.cosh(x))**2\n",
    "\n",
    "def ddxJ(a, b, c, d, e):\n",
    "\n",
    "    ga = 0\n",
    "    gb = 0\n",
    "    gc = 0\n",
    "    gd = 0\n",
    "    ge = 0\n",
    "    for element in data:\n",
    "        u = element[0]\n",
    "        v = element[1]\n",
    "        w = element[2]\n",
    "\n",
    "        ga += -2*c*u*sech2(d+a*u+b*v) * sech2(e+c*math.tanh(d + a*u +b*v)) * (w-math.tanh(e+c*math.tanh(d+a*u+b*v)))\n",
    "\n",
    "        gb += -2*c*v*sech2(d+a*u+b*v)*sech2(e+c*math.tanh(d+a*u+b*v)) * (w-math.tanh(e+c*math.tanh(d+a*u+b*v)))\n",
    "\n",
    "        gc += -2*sech2(e+c*math.tanh(d+a*u+b*v))*math.tanh(d+a*u+b*v)*(w-math.tanh(e+c*math.tanh(d+a*u+b*v)))\n",
    "\n",
    "        gd += -2*c*sech2(d+a*u+b*v)*sech2(e+c*math.tanh(d+a*u+b*v))*(w-math.tanh(e+c*math.tanh(d+a*u+b*v)))\n",
    "\n",
    "        ge += -2*sech2(e+c*math.tanh(d+a*u+b*v))*(w-math.tanh(e+c*math.tanh(d+a*u+b*v)))\n",
    "\n",
    "\n",
    "\n",
    "    ga /= len(data)\n",
    "    gb /= len(data)\n",
    "    gc /= len(data)\n",
    "    gd /= len(data)\n",
    "    ge /= len(data)\n",
    "    return ga, gb, gc, gd, ge\n",
    "\n",
    "\n",
    "ddxJ(1,2,3,4,5)"
   ],
   "metadata": {
    "collapsed": false,
    "pycharm": {
     "name": "#%%\n"
    }
   }
  },
  {
   "cell_type": "code",
   "execution_count": 35,
   "outputs": [
    {
     "name": "stdout",
     "output_type": "stream",
     "text": [
      "Starting error**2: 1.9297478085656685\n",
      "End error**2: 0.8924501425716356\n"
     ]
    }
   ],
   "source": [
    "a,b,c,d,e = random.random()*10-5, random.random()*10-5, random.random()*10-5, random.random()*10-5, random.random()*10-5\n",
    "\n",
    "print(f\"Starting error**2: {J(a,b,c,d,e)}\")\n",
    "\n",
    "\n",
    "errors = []\n",
    "step_size = 0.2\n",
    "\n",
    "for idx in range(1000):\n",
    "    print(f\"\\rIteration: {idx}\", end=\"\")\n",
    "    da,db,dc,dd,de = ddxJ(a,b,c,d,e)\n",
    "    a -= da*step_size\n",
    "    b -= db*step_size\n",
    "    c -= dc*step_size\n",
    "    d -= dd*step_size\n",
    "    e -= de*step_size\n",
    "    errors.append(J(a,b,c,d,e))\n",
    "\n",
    "print(f\"\\rEnd error**2: {J(a,b,c,d,e)}\")\n"
   ],
   "metadata": {
    "collapsed": false,
    "pycharm": {
     "name": "#%%\n"
    }
   }
  },
  {
   "cell_type": "code",
   "execution_count": 36,
   "outputs": [
    {
     "data": {
      "text/plain": "[<matplotlib.lines.Line2D at 0x1ddcbf20910>]"
     },
     "execution_count": 36,
     "metadata": {},
     "output_type": "execute_result"
    },
    {
     "data": {
      "text/plain": "<Figure size 432x288 with 1 Axes>",
      "image/png": "[encoded data removed]"
     },
     "metadata": {
      "needs_background": "light"
     },
     "output_type": "display_data"
    }
   ],
   "source": [
    "from matplotlib import pyplot as plt\n",
    "\n",
    "fig, ax = plt.subplots()\n",
    "\n",
    "plt.plot(errors, color='black')"
   ],
   "metadata": {
    "collapsed": false,
    "pycharm": {
     "name": "#%%\n"
    }
   }
  }
 ],
 "metadata": {
  "kernelspec": {
   "display_name": "Python 3",
   "language": "python",
   "name": "python3"
  },
  "language_info": {
   "codemirror_mode": {
    "name": "ipython",
    "version": 2
   },
   "file_extension": ".py",
   "mimetype": "text/x-python",
   "name": "python",
   "nbconvert_exporter": "python",
   "pygments_lexer": "ipython2",
   "version": "2.7.6"
  }
 },
 "nbformat": 4,
 "nbformat_minor": 0
}