{
 "cells": [
  {
   "cell_type": "markdown",
   "source": [
    "# Grupo 6\n",
    "---\n",
    "\n",
    "- Vasco Varas\n",
    "- Tomás Oyaneder\n",
    "- Benjamin Jofre"
   ],
   "metadata": {
    "collapsed": false,
    "pycharm": {
     "name": "#%% md\n"
    }
   }
  },
  {
   "cell_type": "code",
   "execution_count": 1,
   "outputs": [],
   "source": [
    "import math\n",
    "import matplotlib.pyplot as plt\n",
    "import numpy as np\n",
    "import pandas as pd\n",
    "from math import pow"
   ],
   "metadata": {
    "collapsed": false,
    "pycharm": {
     "name": "#%%\n"
    }
   }
  },
  {
   "cell_type": "code",
   "execution_count": 2,
   "metadata": {
    "collapsed": true,
    "pycharm": {
     "name": "#%%\n"
    }
   },
   "outputs": [],
   "source": [
    "with open('P1grupo_6.csv', 'r') as f:\n",
    "    data = list(map(lambda x: (float(x[0]), float(x[1])), [x.split(',') for x in f.read().split('\\n')][1:-1]))"
   ]
  },
  {
   "cell_type": "code",
   "execution_count": 12,
   "outputs": [
    {
     "data": {
      "text/plain": "[(0.019, 1.3275546919762506),\n (0.029, 1.1797919786016822),\n (0.03, 1.6095017821415059),\n (0.038, 1.7106004081974544),\n (0.04, 1.2971767428165828),\n (0.095, 1.619754938723507),\n (0.095, 1.619754938723507),\n (0.10200000000000001, 1.8500900002696614),\n (0.10200000000000001, 1.8500900002696614),\n (0.10300000000000001, 1.331616452161002)]"
     },
     "execution_count": 12,
     "metadata": {},
     "output_type": "execute_result"
    }
   ],
   "source": [
    "data[:10]"
   ],
   "metadata": {
    "collapsed": false,
    "pycharm": {
     "name": "#%%\n"
    }
   }
  },
  {
   "cell_type": "code",
   "execution_count": 4,
   "outputs": [
    {
     "data": {
      "text/plain": "<Figure size 432x288 with 1 Axes>",
      "image/png": "[encoded data removed]"
     },
     "metadata": {
      "needs_background": "light"
     },
     "output_type": "display_data"
    }
   ],
   "source": [
    "fig, ax = plt.subplots()\n",
    "\n",
    "for x, y in data:\n",
    "    plt.plot(x, y, 'o', color='black')"
   ],
   "metadata": {
    "collapsed": false,
    "pycharm": {
     "name": "#%%\n"
    }
   }
  },
  {
   "cell_type": "markdown",
   "source": [
    "## A)"
   ],
   "metadata": {
    "collapsed": false,
    "pycharm": {
     "name": "#%% md\n"
    }
   }
  },
  {
   "cell_type": "code",
   "execution_count": 5,
   "outputs": [],
   "source": [
    "lindata = list(map(lambda x: (x[0], math.log(x[1])), data))"
   ],
   "metadata": {
    "collapsed": false,
    "pycharm": {
     "name": "#%%\n"
    }
   }
  },
  {
   "cell_type": "code",
   "execution_count": 6,
   "outputs": [
    {
     "data": {
      "text/plain": "<Figure size 432x288 with 1 Axes>",
      "image/png": "[encoded data removed]"
     },
     "metadata": {
      "needs_background": "light"
     },
     "output_type": "display_data"
    }
   ],
   "source": [
    "fig, ax = plt.subplots()\n",
    "\n",
    "for x, y in lindata:\n",
    "    plt.plot(x, y, 'o', color='black')"
   ],
   "metadata": {
    "collapsed": false,
    "pycharm": {
     "name": "#%%\n"
    }
   }
  },
  {
   "cell_type": "markdown",
   "source": [
    "## b)"
   ],
   "metadata": {
    "collapsed": false,
    "pycharm": {
     "name": "#%% md\n"
    }
   }
  },
  {
   "cell_type": "code",
   "execution_count": 7,
   "outputs": [
    {
     "name": "stdout",
     "output_type": "stream",
     "text": [
      "0.3998861563600124x+0.40065393866387033\n"
     ]
    }
   ],
   "source": [
    "def get_mean(values):\n",
    "    return float(sum(values)) / float(len(values))\n",
    "\n",
    "\n",
    "df = pd.read_csv('P1grupo_6.csv')\n",
    "\n",
    "df['y'] = np.log(df['y'])\n",
    "\n",
    "x_values, y_values = df['x'], df['y']\n",
    "\n",
    "# Calcular varianza de los x\n",
    "vals_mean = get_mean(x_values)\n",
    "mean_difference_squared = [pow((val - vals_mean), 2) for val in x_values]\n",
    "x_variance = float(sum(mean_difference_squared)) / float(len(x_values) - 1)\n",
    "\n",
    "# Calculamos la covarianza para conseguir el coeficiente w1\n",
    "x_mean = get_mean(x_values)\n",
    "y_mean = get_mean(y_values)\n",
    "readings_size = len(x_values)\n",
    "covariance = 0.0\n",
    "for i in range(0, readings_size):\n",
    "    covariance += (x_values[i] - x_mean) * (y_values[i] - y_mean)\n",
    "\n",
    "# Calculamos el coeficiente w1\n",
    "w1 = covariance / float(readings_size - 1) / float(x_variance)\n",
    "\n",
    "# Calculamos el coeficiente w0\n",
    "w0 = get_mean(y_values) - (w1 * get_mean(x_values))\n",
    "\n",
    "print(f'{w1}x+{w0}')"
   ],
   "metadata": {
    "collapsed": false,
    "pycharm": {
     "name": "#%%\n"
    }
   }
  },
  {
   "cell_type": "code",
   "execution_count": 8,
   "outputs": [
    {
     "data": {
      "text/plain": "         x         y\n0    0.019  0.283339\n1    0.029  0.165338\n2    0.030  0.475925\n3    0.038  0.536844\n4    0.040  0.260190\n..     ...       ...\n995  9.963  4.467999\n996  9.993  4.433769\n997  9.994  4.403162\n998  9.997  4.313765\n999  9.998  4.424995\n\n[1000 rows x 2 columns]",
      "text/html": "<div>\n<style scoped>\n    .dataframe tbody tr th:only-of-type {\n        vertical-align: middle;\n    }\n\n    .dataframe tbody tr th {\n        vertical-align: top;\n    }\n\n    .dataframe thead th {\n        text-align: right;\n    }\n</style>\n<table border=\"1\" class=\"dataframe\">\n  <thead>\n    <tr style=\"text-align: right;\">\n      <th></th>\n      <th>x</th>\n      <th>y</th>\n    </tr>\n  </thead>\n  <tbody>\n    <tr>\n      <th>0</th>\n      <td>0.019</td>\n      <td>0.283339</td>\n    </tr>\n    <tr>\n      <th>1</th>\n      <td>0.029</td>\n      <td>0.165338</td>\n    </tr>\n    <tr>\n      <th>2</th>\n      <td>0.030</td>\n      <td>0.475925</td>\n    </tr>\n    <tr>\n      <th>3</th>\n      <td>0.038</td>\n      <td>0.536844</td>\n    </tr>\n    <tr>\n      <th>4</th>\n      <td>0.040</td>\n      <td>0.260190</td>\n    </tr>\n    <tr>\n      <th>...</th>\n      <td>...</td>\n      <td>...</td>\n    </tr>\n    <tr>\n      <th>995</th>\n      <td>9.963</td>\n      <td>4.467999</td>\n    </tr>\n    <tr>\n      <th>996</th>\n      <td>9.993</td>\n      <td>4.433769</td>\n    </tr>\n    <tr>\n      <th>997</th>\n      <td>9.994</td>\n      <td>4.403162</td>\n    </tr>\n    <tr>\n      <th>998</th>\n      <td>9.997</td>\n      <td>4.313765</td>\n    </tr>\n    <tr>\n      <th>999</th>\n      <td>9.998</td>\n      <td>4.424995</td>\n    </tr>\n  </tbody>\n</table>\n<p>1000 rows × 2 columns</p>\n</div>"
     },
     "execution_count": 8,
     "metadata": {},
     "output_type": "execute_result"
    }
   ],
   "source": [
    "df"
   ],
   "metadata": {
    "collapsed": false,
    "pycharm": {
     "name": "#%%\n"
    }
   }
  },
  {
   "cell_type": "code",
   "execution_count": 9,
   "outputs": [
    {
     "name": "stderr",
     "output_type": "stream",
     "text": [
      "C:\\Users\\vasco\\AppData\\Local\\Temp\\ipykernel_436\\3749800586.py:12: UserWarning: color is redundantly defined by the 'color' keyword argument and the fmt string \"-r\" (-> color='r'). The keyword argument will take precedence.\n",
      "  ax.plot(x, y, '-r', label='y=2x+1', color='purple', linewidth=5)\n"
     ]
    },
    {
     "data": {
      "text/plain": "[<matplotlib.lines.Line2D at 0x22bd45c9cc0>]"
     },
     "execution_count": 9,
     "metadata": {},
     "output_type": "execute_result"
    },
    {
     "data": {
      "text/plain": "<Figure size 432x288 with 1 Axes>",
      "image/png": "[encoded data removed]"
     },
     "metadata": {
      "needs_background": "light"
     },
     "output_type": "display_data"
    }
   ],
   "source": [
    "fig, ax = plt.subplots()\n",
    "\n",
    "for x, y in lindata:\n",
    "    plt.plot(x, y, 'o', color='black')\n",
    "\n",
    "x = np.linspace(0,10,100)\n",
    "\n",
    "y = w1*x+w0\n",
    "ax.plot(x, y, '-r', label='y=2x+1', color='purple', linewidth=5)"
   ],
   "metadata": {
    "collapsed": false,
    "pycharm": {
     "name": "#%%\n"
    }
   }
  },
  {
   "cell_type": "markdown",
   "source": [
    "## C)"
   ],
   "metadata": {
    "collapsed": false,
    "pycharm": {
     "name": "#%% md\n"
    }
   }
  },
  {
   "cell_type": "markdown",
   "source": [
    "---\n",
    "\n",
    "exp(w1*x+w0)\n",
    "= exp(w1*x) * exp(w0)\n",
    "\n",
    "\n",
    "exp(0.39988615636001235x+0.4006539386638708)\n",
    "= exp(0.39988615636001235x) * exp(0.4006539386638708)\n",
    "= exp(0.39988615636001235x) * 1.492800578539124\n",
    "\n",
    "### Respuesta:\n",
    "alpha = exp(w0) = (1.492800578539124)\n",
    "beta = w1 = (0.39988615636001235)\n"
   ],
   "metadata": {
    "collapsed": false,
    "pycharm": {
     "name": "#%% md\n"
    }
   }
  },
  {
   "cell_type": "code",
   "execution_count": 10,
   "outputs": [
    {
     "name": "stderr",
     "output_type": "stream",
     "text": [
      "C:\\Users\\vasco\\AppData\\Local\\Temp\\ipykernel_436\\603001440.py:16: UserWarning: color is redundantly defined by the 'color' keyword argument and the fmt string \"-r\" (-> color='r'). The keyword argument will take precedence.\n",
      "  ax.plot(x, y, '-r', label='y=2x+1', color='purple', linewidth=5)\n"
     ]
    },
    {
     "data": {
      "text/plain": "[<matplotlib.lines.Line2D at 0x22bd24d6470>]"
     },
     "execution_count": 10,
     "metadata": {},
     "output_type": "execute_result"
    },
    {
     "data": {
      "text/plain": "<Figure size 432x288 with 1 Axes>",
      "image/png": "[encoded data removed]"
     },
     "metadata": {
      "needs_background": "light"
     },
     "output_type": "display_data"
    }
   ],
   "source": [
    "fig, ax = plt.subplots()\n",
    "\n",
    "for x, y in data:\n",
    "    plt.plot(x, y, 'o', color='black')\n",
    "\n",
    "x = np.linspace(0,10,100)\n",
    "\n",
    "y = np.exp(w0)*np.exp(w1*x)\n",
    "\n",
    "## Y= aX + b\n",
    "\n",
    "ax.plot(x, y, '-r', label='y=2x+1', color='purple', linewidth=5)"
   ],
   "metadata": {
    "collapsed": false,
    "pycharm": {
     "name": "#%%\n"
    }
   }
  },
  {
   "cell_type": "markdown",
   "source": [
    "## D)"
   ],
   "metadata": {
    "collapsed": false,
    "pycharm": {
     "name": "#%% md\n"
    }
   }
  },
  {
   "cell_type": "code",
   "execution_count": 11,
   "outputs": [
    {
     "name": "stderr",
     "output_type": "stream",
     "text": [
      "C:\\Users\\vasco\\AppData\\Local\\Temp\\ipykernel_436\\4003493351.py:15: UserWarning: color is redundantly defined by the 'color' keyword argument and the fmt string \"-r\" (-> color='r'). The keyword argument will take precedence.\n",
      "  ax.plot(x, y, '-r', label='y=2x+1', color='purple', linewidth=5)\n"
     ]
    },
    {
     "data": {
      "text/plain": "[<matplotlib.lines.Line2D at 0x22bd50bcdf0>]"
     },
     "execution_count": 11,
     "metadata": {},
     "output_type": "execute_result"
    },
    {
     "data": {
      "text/plain": "<Figure size 432x288 with 1 Axes>",
      "image/png": "[encoded data removed]"
     },
     "metadata": {
      "needs_background": "light"
     },
     "output_type": "display_data"
    }
   ],
   "source": [
    "fig, ax = plt.subplots()\n",
    "\n",
    "for x, y in data:\n",
    "    plt.plot(x, y, 'o', color='black')\n",
    "\n",
    "x = np.linspace(0,10,100)\n",
    "\n",
    "y = np.exp(w0)*np.exp(w1*x)\n",
    "\n",
    "## Y= aX + b\n",
    "\n",
    "ax.plot(x, y, '-r', label='y=2x+1', color='purple', linewidth=5)"
   ],
   "metadata": {
    "collapsed": false,
    "pycharm": {
     "name": "#%%\n"
    }
   }
  }
 ],
 "metadata": {
  "kernelspec": {
   "display_name": "Python 3",
   "language": "python",
   "name": "python3"
  },
  "language_info": {
   "codemirror_mode": {
    "name": "ipython",
    "version": 2
   },
   "file_extension": ".py",
   "mimetype": "text/x-python",
   "name": "python",
   "nbconvert_exporter": "python",
   "pygments_lexer": "ipython2",
   "version": "2.7.6"
  }
 },
 "nbformat": 4,
 "nbformat_minor": 0
}